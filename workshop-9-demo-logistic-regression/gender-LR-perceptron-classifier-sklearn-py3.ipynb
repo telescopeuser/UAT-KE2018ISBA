{
 "cells": [
  {
   "cell_type": "markdown",
   "metadata": {},
   "source": [
    "### source & credit:\n",
    "\n",
    "https://medium.com/@ismailghallou/build-your-perceptron-neural-net-from-scratch-e12b7be9d1ef\n",
    "\n",
    "https://github.com/smakosh/Perceptron-neural-net-from-scratch"
   ]
  },
  {
   "cell_type": "markdown",
   "metadata": {},
   "source": [
    "Sigmoid activation function"
   ]
  },
  {
   "cell_type": "code",
   "execution_count": 1,
   "metadata": {},
   "outputs": [],
   "source": [
    "from sklearn.linear_model import Perceptron\n",
    "from sklearn.metrics import accuracy_score\n",
    "import numpy as np"
   ]
  },
  {
   "cell_type": "code",
   "execution_count": 2,
   "metadata": {},
   "outputs": [],
   "source": [
    "# Features: height, weight, shoe-size, \n",
    "# Target: gender: male or female\n",
    "data = [[1.81, 0.80, 0.44],\n",
    "        [1.77, 0.70, 0.43],\n",
    "        [1.60, 0.60, 0.38],\n",
    "        [1.54, 0.54, 0.37],\n",
    "        [1.66, 0.65, 0.40],\n",
    "        [1.90, 0.90, 0.47],\n",
    "        [1.75, 0.64, 0.39],\n",
    "        [1.77, 0.70, 0.40],\n",
    "        [1.59, 0.55, 0.37],\n",
    "        [1.71, 0.75, 0.42],\n",
    "        [1.81, 0.85, 0.43]]\n",
    "\n",
    "results = ['male', 'male', \n",
    "           'female', 'female', \n",
    "           'male', 'male', \n",
    "           'female', 'female', 'female', \n",
    "           'male', 'male']"
   ]
  },
  {
   "cell_type": "code",
   "execution_count": 3,
   "metadata": {},
   "outputs": [],
   "source": [
    "classif = Perceptron(alpha=0.0001, class_weight=None, eta0=1.0, fit_intercept=True,\n",
    "      max_iter=20, n_jobs=1, penalty=None, random_state=0, shuffle=True,\n",
    "      verbose=0, warm_start=False)"
   ]
  },
  {
   "cell_type": "code",
   "execution_count": 4,
   "metadata": {},
   "outputs": [
    {
     "data": {
      "text/plain": [
       "Perceptron(alpha=0.0001, class_weight=None, eta0=1.0, fit_intercept=True,\n",
       "      max_iter=20, n_iter=None, n_jobs=1, penalty=None, random_state=0,\n",
       "      shuffle=True, tol=None, verbose=0, warm_start=False)"
      ]
     },
     "execution_count": 4,
     "metadata": {},
     "output_type": "execute_result"
    }
   ],
   "source": [
    "classif.fit(data, results)"
   ]
  },
  {
   "cell_type": "code",
   "execution_count": 5,
   "metadata": {},
   "outputs": [
    {
     "name": "stdout",
     "output_type": "stream",
     "text": [
      "Correct? True     Actual: male     Predicted: male\n",
      "Correct? False     Actual: male     Predicted: female\n",
      "Correct? True     Actual: female     Predicted: female\n",
      "Correct? True     Actual: female     Predicted: female\n",
      "Correct? False     Actual: male     Predicted: female\n",
      "Correct? True     Actual: male     Predicted: male\n",
      "Correct? True     Actual: female     Predicted: female\n",
      "Correct? True     Actual: female     Predicted: female\n",
      "Correct? True     Actual: female     Predicted: female\n",
      "Correct? True     Actual: male     Predicted: male\n",
      "Correct? True     Actual: male     Predicted: male\n",
      "\n",
      "Accuracy for perceptron: 81.81818181818183 %\n"
     ]
    }
   ],
   "source": [
    "pred_per = classif.predict(data)\n",
    "\n",
    "for i in range(len(results)):\n",
    "    print('Correct? %s     Actual: %s     Predicted: %s' % (results[i] == pred_per[i] ,results[i], pred_per[i]))\n",
    "\n",
    "acc_per = accuracy_score(results, pred_per) * 100\n",
    "print('\\nAccuracy for perceptron: {} %'.format(acc_per))"
   ]
  },
  {
   "cell_type": "markdown",
   "metadata": {},
   "source": [
    "# How to imporve model accuracy?\n",
    "### What about learning longer? (Let's extend our class to 9 pm today?)"
   ]
  },
  {
   "cell_type": "code",
   "execution_count": 6,
   "metadata": {},
   "outputs": [],
   "source": [
    "classif = Perceptron(alpha=0.0001, class_weight=None, eta0=1.0, fit_intercept=True,\n",
    "      max_iter=200, n_jobs=1, penalty=None, random_state=0, shuffle=True,\n",
    "      verbose=0, warm_start=False)"
   ]
  },
  {
   "cell_type": "code",
   "execution_count": 7,
   "metadata": {},
   "outputs": [
    {
     "data": {
      "text/plain": [
       "Perceptron(alpha=0.0001, class_weight=None, eta0=1.0, fit_intercept=True,\n",
       "      max_iter=200, n_iter=None, n_jobs=1, penalty=None, random_state=0,\n",
       "      shuffle=True, tol=None, verbose=0, warm_start=False)"
      ]
     },
     "execution_count": 7,
     "metadata": {},
     "output_type": "execute_result"
    }
   ],
   "source": [
    "classif.fit(data, results)"
   ]
  },
  {
   "cell_type": "code",
   "execution_count": 8,
   "metadata": {},
   "outputs": [
    {
     "name": "stdout",
     "output_type": "stream",
     "text": [
      "Correct? True     Actual: male     Predicted: male\n",
      "Correct? True     Actual: male     Predicted: male\n",
      "Correct? True     Actual: female     Predicted: female\n",
      "Correct? True     Actual: female     Predicted: female\n",
      "Correct? False     Actual: male     Predicted: female\n",
      "Correct? True     Actual: male     Predicted: male\n",
      "Correct? True     Actual: female     Predicted: female\n",
      "Correct? True     Actual: female     Predicted: female\n",
      "Correct? True     Actual: female     Predicted: female\n",
      "Correct? True     Actual: male     Predicted: male\n",
      "Correct? True     Actual: male     Predicted: male\n",
      "\n",
      "Accuracy for perceptron: 90.9090909090909 %\n"
     ]
    }
   ],
   "source": [
    "pred_per = classif.predict(data)\n",
    "\n",
    "for i in range(len(results)):\n",
    "    print('Correct? %s     Actual: %s     Predicted: %s' % (results[i] == pred_per[i] ,results[i], pred_per[i]))\n",
    "\n",
    "acc_per = accuracy_score(results, pred_per) * 100\n",
    "print('\\nAccuracy for perceptron: {} %'.format(acc_per))"
   ]
  },
  {
   "cell_type": "markdown",
   "metadata": {},
   "source": [
    "### Prediciton for new persons:"
   ]
  },
  {
   "cell_type": "code",
   "execution_count": 9,
   "metadata": {},
   "outputs": [
    {
     "name": "stdout",
     "output_type": "stream",
     "text": [
      "['female']\n"
     ]
    }
   ],
   "source": [
    "prediction = classif.predict([[1.62, 0.49, 0.38]])\n",
    "\n",
    "print(prediction)"
   ]
  },
  {
   "cell_type": "code",
   "execution_count": 10,
   "metadata": {},
   "outputs": [
    {
     "name": "stdout",
     "output_type": "stream",
     "text": [
      "['male']\n"
     ]
    }
   ],
   "source": [
    "prediction = classif.predict([[1.62, 0.79, 0.38]])\n",
    "\n",
    "print(prediction)"
   ]
  },
  {
   "cell_type": "markdown",
   "metadata": {},
   "source": [
    "---"
   ]
  }
 ],
 "metadata": {
  "kernelspec": {
   "display_name": "Python 3",
   "language": "python",
   "name": "python3"
  },
  "language_info": {
   "codemirror_mode": {
    "name": "ipython",
    "version": 3
   },
   "file_extension": ".py",
   "mimetype": "text/x-python",
   "name": "python",
   "nbconvert_exporter": "python",
   "pygments_lexer": "ipython3",
   "version": "3.6.4"
  }
 },
 "nbformat": 4,
 "nbformat_minor": 2
}
