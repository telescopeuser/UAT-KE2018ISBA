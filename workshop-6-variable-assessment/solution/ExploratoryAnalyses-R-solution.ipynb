{
 "cells": [
  {
   "cell_type": "markdown",
   "metadata": {},
   "source": [
    "https://rrighart.github.io/RExplor/\n",
    "\n",
    "https://github.com/RRighart/RExplor"
   ]
  },
  {
   "cell_type": "markdown",
   "metadata": {},
   "source": [
    "# R programming | Using R for Exploratory Analyses"
   ]
  },
  {
   "cell_type": "markdown",
   "metadata": {},
   "source": [
    "## <span style=\"color:orange\">ANALYSES AND R PROGRAMMING CODE</span>"
   ]
  },
  {
   "cell_type": "markdown",
   "metadata": {},
   "source": [
    "Create a small dataset: 100m sprint"
   ]
  },
  {
   "cell_type": "code",
   "execution_count": 1,
   "metadata": {},
   "outputs": [],
   "source": [
    "# Create a small dataset: 100m sprint\n",
    "df<-data.frame(subject=as.factor(c(\"Pierre\",\"Anne\",\"Joyce\",\"Peter\",\"Alan\",\"Camille\")), age=as.numeric(c(20, 16, 19, 99, 23, 18)), sex=as.factor(c(\"M\",\"F\",\"F\",\"M\",NA,\"F\")), height=as.numeric(c(172, 181, 165, 168, 177, 178)), speed=as.numeric(c(11.20,3.00,11.50,10.35,10.98,13.05)))\n"
   ]
  },
  {
   "cell_type": "code",
   "execution_count": 2,
   "metadata": {},
   "outputs": [
    {
     "data": {
      "text/html": [
       "<table>\n",
       "<thead><tr><th scope=col>subject</th><th scope=col>age</th><th scope=col>sex</th><th scope=col>height</th><th scope=col>speed</th></tr></thead>\n",
       "<tbody>\n",
       "\t<tr><td>Pierre </td><td>20     </td><td>M      </td><td>172    </td><td>11.20  </td></tr>\n",
       "\t<tr><td>Anne   </td><td>16     </td><td>F      </td><td>181    </td><td> 3.00  </td></tr>\n",
       "\t<tr><td>Joyce  </td><td>19     </td><td>F      </td><td>165    </td><td>11.50  </td></tr>\n",
       "\t<tr><td>Peter  </td><td>99     </td><td>M      </td><td>168    </td><td>10.35  </td></tr>\n",
       "\t<tr><td>Alan   </td><td>23     </td><td>NA     </td><td>177    </td><td>10.98  </td></tr>\n",
       "\t<tr><td>Camille</td><td>18     </td><td>F      </td><td>178    </td><td>13.05  </td></tr>\n",
       "</tbody>\n",
       "</table>\n"
      ],
      "text/latex": [
       "\\begin{tabular}{r|lllll}\n",
       " subject & age & sex & height & speed\\\\\n",
       "\\hline\n",
       "\t Pierre  & 20      & M       & 172     & 11.20  \\\\\n",
       "\t Anne    & 16      & F       & 181     &  3.00  \\\\\n",
       "\t Joyce   & 19      & F       & 165     & 11.50  \\\\\n",
       "\t Peter   & 99      & M       & 168     & 10.35  \\\\\n",
       "\t Alan    & 23      & NA      & 177     & 10.98  \\\\\n",
       "\t Camille & 18      & F       & 178     & 13.05  \\\\\n",
       "\\end{tabular}\n"
      ],
      "text/markdown": [
       "\n",
       "subject | age | sex | height | speed | \n",
       "|---|---|---|---|---|---|\n",
       "| Pierre  | 20      | M       | 172     | 11.20   | \n",
       "| Anne    | 16      | F       | 181     |  3.00   | \n",
       "| Joyce   | 19      | F       | 165     | 11.50   | \n",
       "| Peter   | 99      | M       | 168     | 10.35   | \n",
       "| Alan    | 23      | NA      | 177     | 10.98   | \n",
       "| Camille | 18      | F       | 178     | 13.05   | \n",
       "\n",
       "\n"
      ],
      "text/plain": [
       "  subject age sex height speed\n",
       "1 Pierre  20  M   172    11.20\n",
       "2 Anne    16  F   181     3.00\n",
       "3 Joyce   19  F   165    11.50\n",
       "4 Peter   99  M   168    10.35\n",
       "5 Alan    23  NA  177    10.98\n",
       "6 Camille 18  F   178    13.05"
      ]
     },
     "metadata": {},
     "output_type": "display_data"
    }
   ],
   "source": [
    "# Check the data.frame df by simply typing in:\n",
    "df\n",
    "\n"
   ]
  },
  {
   "cell_type": "code",
   "execution_count": 3,
   "metadata": {},
   "outputs": [
    {
     "data": {
      "text/html": [
       "<ol class=list-inline>\n",
       "\t<li>6</li>\n",
       "\t<li>5</li>\n",
       "</ol>\n"
      ],
      "text/latex": [
       "\\begin{enumerate*}\n",
       "\\item 6\n",
       "\\item 5\n",
       "\\end{enumerate*}\n"
      ],
      "text/markdown": [
       "1. 6\n",
       "2. 5\n",
       "\n",
       "\n"
      ],
      "text/plain": [
       "[1] 6 5"
      ]
     },
     "metadata": {},
     "output_type": "display_data"
    }
   ],
   "source": [
    "# The data has 6 rows and 5 columns:\n",
    "dim(df)\n",
    "\n"
   ]
  },
  {
   "cell_type": "code",
   "execution_count": 4,
   "metadata": {},
   "outputs": [
    {
     "data": {
      "text/html": [
       "<table>\n",
       "<thead><tr><th scope=col>subject</th><th scope=col>age</th><th scope=col>sex</th><th scope=col>height</th><th scope=col>speed</th></tr></thead>\n",
       "<tbody>\n",
       "\t<tr><td>Pierre</td><td>20    </td><td>M     </td><td>172   </td><td>11.20 </td></tr>\n",
       "\t<tr><td>Anne  </td><td>16    </td><td>F     </td><td>181   </td><td> 3.00 </td></tr>\n",
       "\t<tr><td>Joyce </td><td>19    </td><td>F     </td><td>165   </td><td>11.50 </td></tr>\n",
       "\t<tr><td>Peter </td><td>99    </td><td>M     </td><td>168   </td><td>10.35 </td></tr>\n",
       "</tbody>\n",
       "</table>\n"
      ],
      "text/latex": [
       "\\begin{tabular}{r|lllll}\n",
       " subject & age & sex & height & speed\\\\\n",
       "\\hline\n",
       "\t Pierre & 20     & M      & 172    & 11.20 \\\\\n",
       "\t Anne   & 16     & F      & 181    &  3.00 \\\\\n",
       "\t Joyce  & 19     & F      & 165    & 11.50 \\\\\n",
       "\t Peter  & 99     & M      & 168    & 10.35 \\\\\n",
       "\\end{tabular}\n"
      ],
      "text/markdown": [
       "\n",
       "subject | age | sex | height | speed | \n",
       "|---|---|---|---|\n",
       "| Pierre | 20     | M      | 172    | 11.20  | \n",
       "| Anne   | 16     | F      | 181    |  3.00  | \n",
       "| Joyce  | 19     | F      | 165    | 11.50  | \n",
       "| Peter  | 99     | M      | 168    | 10.35  | \n",
       "\n",
       "\n"
      ],
      "text/plain": [
       "  subject age sex height speed\n",
       "1 Pierre  20  M   172    11.20\n",
       "2 Anne    16  F   181     3.00\n",
       "3 Joyce   19  F   165    11.50\n",
       "4 Peter   99  M   168    10.35"
      ]
     },
     "metadata": {},
     "output_type": "display_data"
    }
   ],
   "source": [
    "# If you have very big data you may want to view only the first lines:\n",
    "head(df, 4)\n",
    "\n"
   ]
  },
  {
   "cell_type": "code",
   "execution_count": 5,
   "metadata": {},
   "outputs": [
    {
     "name": "stdout",
     "output_type": "stream",
     "text": [
      "'data.frame':\t6 obs. of  5 variables:\n",
      " $ subject: Factor w/ 6 levels \"Alan\",\"Anne\",..: 6 2 4 5 1 3\n",
      " $ age    : num  20 16 19 99 23 18\n",
      " $ sex    : Factor w/ 2 levels \"F\",\"M\": 2 1 1 2 NA 1\n",
      " $ height : num  172 181 165 168 177 178\n",
      " $ speed  : num  11.2 3 11.5 10.3 11 ...\n"
     ]
    }
   ],
   "source": [
    "# To inspect the structure of the data: \n",
    "str(df)\n",
    "\n"
   ]
  },
  {
   "cell_type": "code",
   "execution_count": 6,
   "metadata": {},
   "outputs": [
    {
     "data": {
      "text/plain": [
       "    subject       age          sex        height          speed      \n",
       " Alan   :1   Min.   :16.00   F   :3   Min.   :165.0   Min.   : 3.00  \n",
       " Anne   :1   1st Qu.:18.25   M   :2   1st Qu.:169.0   1st Qu.:10.51  \n",
       " Camille:1   Median :19.50   NA's:1   Median :174.5   Median :11.09  \n",
       " Joyce  :1   Mean   :32.50            Mean   :173.5   Mean   :10.01  \n",
       " Peter  :1   3rd Qu.:22.25            3rd Qu.:177.8   3rd Qu.:11.43  \n",
       " Pierre :1   Max.   :99.00            Max.   :181.0   Max.   :13.05  "
      ]
     },
     "metadata": {},
     "output_type": "display_data"
    }
   ],
   "source": [
    "# Some basic statistics can be given by the summary command:\n",
    "summary(df)\n",
    "\n"
   ]
  },
  {
   "cell_type": "code",
   "execution_count": 7,
   "metadata": {},
   "outputs": [
    {
     "data": {
      "text/html": [
       "<table>\n",
       "<thead><tr><th scope=col>subject</th><th scope=col>age</th><th scope=col>sex</th><th scope=col>height</th><th scope=col>speed</th></tr></thead>\n",
       "<tbody>\n",
       "\t<tr><td>FALSE</td><td>FALSE</td><td>FALSE</td><td>FALSE</td><td>FALSE</td></tr>\n",
       "\t<tr><td>FALSE</td><td>FALSE</td><td>FALSE</td><td>FALSE</td><td>FALSE</td></tr>\n",
       "\t<tr><td>FALSE</td><td>FALSE</td><td>FALSE</td><td>FALSE</td><td>FALSE</td></tr>\n",
       "\t<tr><td>FALSE</td><td>FALSE</td><td>FALSE</td><td>FALSE</td><td>FALSE</td></tr>\n",
       "\t<tr><td>FALSE</td><td>FALSE</td><td> TRUE</td><td>FALSE</td><td>FALSE</td></tr>\n",
       "\t<tr><td>FALSE</td><td>FALSE</td><td>FALSE</td><td>FALSE</td><td>FALSE</td></tr>\n",
       "</tbody>\n",
       "</table>\n"
      ],
      "text/latex": [
       "\\begin{tabular}{lllll}\n",
       " subject & age & sex & height & speed\\\\\n",
       "\\hline\n",
       "\t FALSE & FALSE & FALSE & FALSE & FALSE\\\\\n",
       "\t FALSE & FALSE & FALSE & FALSE & FALSE\\\\\n",
       "\t FALSE & FALSE & FALSE & FALSE & FALSE\\\\\n",
       "\t FALSE & FALSE & FALSE & FALSE & FALSE\\\\\n",
       "\t FALSE & FALSE &  TRUE & FALSE & FALSE\\\\\n",
       "\t FALSE & FALSE & FALSE & FALSE & FALSE\\\\\n",
       "\\end{tabular}\n"
      ],
      "text/markdown": [
       "\n",
       "subject | age | sex | height | speed | \n",
       "|---|---|---|---|---|---|\n",
       "| FALSE | FALSE | FALSE | FALSE | FALSE | \n",
       "| FALSE | FALSE | FALSE | FALSE | FALSE | \n",
       "| FALSE | FALSE | FALSE | FALSE | FALSE | \n",
       "| FALSE | FALSE | FALSE | FALSE | FALSE | \n",
       "| FALSE | FALSE |  TRUE | FALSE | FALSE | \n",
       "| FALSE | FALSE | FALSE | FALSE | FALSE | \n",
       "\n",
       "\n"
      ],
      "text/plain": [
       "     subject age   sex   height speed\n",
       "[1,] FALSE   FALSE FALSE FALSE  FALSE\n",
       "[2,] FALSE   FALSE FALSE FALSE  FALSE\n",
       "[3,] FALSE   FALSE FALSE FALSE  FALSE\n",
       "[4,] FALSE   FALSE FALSE FALSE  FALSE\n",
       "[5,] FALSE   FALSE  TRUE FALSE  FALSE\n",
       "[6,] FALSE   FALSE FALSE FALSE  FALSE"
      ]
     },
     "metadata": {},
     "output_type": "display_data"
    }
   ],
   "source": [
    "# To examine if missing values (NA) are in the data:\n",
    "is.na(df)\n",
    "\n"
   ]
  },
  {
   "cell_type": "code",
   "execution_count": 8,
   "metadata": {},
   "outputs": [
    {
     "data": {
      "text/html": [
       "<table>\n",
       "<thead><tr><th scope=col>row</th><th scope=col>col</th></tr></thead>\n",
       "<tbody>\n",
       "\t<tr><td>5</td><td>3</td></tr>\n",
       "</tbody>\n",
       "</table>\n"
      ],
      "text/latex": [
       "\\begin{tabular}{ll}\n",
       " row & col\\\\\n",
       "\\hline\n",
       "\t 5 & 3\\\\\n",
       "\\end{tabular}\n"
      ],
      "text/markdown": [
       "\n",
       "row | col | \n",
       "|---|\n",
       "| 5 | 3 | \n",
       "\n",
       "\n"
      ],
      "text/plain": [
       "     row col\n",
       "[1,] 5   3  "
      ]
     },
     "metadata": {},
     "output_type": "display_data"
    }
   ],
   "source": [
    "# If you want the row and column index where NAs occur:\n",
    "which(is.na(df), arr.ind=T)\n",
    "\n"
   ]
  },
  {
   "cell_type": "code",
   "execution_count": 9,
   "metadata": {},
   "outputs": [
    {
     "data": {
      "image/png": "[encoded data removed]",
      "text/plain": [
       "Plot with title “Speed (ms)”"
      ]
     },
     "metadata": {},
     "output_type": "display_data"
    }
   ],
   "source": [
    "# We can use boxplots to see if there are impossible extreme values:\n",
    "par(mfrow=c(1,3))\n",
    "boxplot(df$age, main=\"Age (yrs)\", cex.lab=2.0, cex.axis=2.0, cex.main=1.6, cex=2.0, col=\"yellow\")\n",
    "boxplot(df$height, main=\"Height (cm)\", cex.lab=2.0, cex.axis=2.0, cex.main=1.6, cex=2.0, col=\"red\")\n",
    "boxplot(df$speed, main=\"Speed (ms)\", cex.lab=2.0, cex.axis=2.0, cex.main=1.6, cex=2.0, col=\"orange\")\n",
    "\n"
   ]
  },
  {
   "cell_type": "code",
   "execution_count": 10,
   "metadata": {},
   "outputs": [
    {
     "data": {
      "text/html": [
       "32.5"
      ],
      "text/latex": [
       "32.5"
      ],
      "text/markdown": [
       "32.5"
      ],
      "text/plain": [
       "[1] 32.5"
      ]
     },
     "metadata": {},
     "output_type": "display_data"
    }
   ],
   "source": [
    "# Finding & replacing the extreme values manually\n",
    "# Compute the mean before we remove the outliers:\n",
    "mean(df$age)\n",
    "\n"
   ]
  },
  {
   "cell_type": "code",
   "execution_count": 11,
   "metadata": {},
   "outputs": [
    {
     "data": {
      "text/html": [
       "<ol class=list-inline>\n",
       "\t<li>FALSE</li>\n",
       "\t<li>FALSE</li>\n",
       "\t<li>FALSE</li>\n",
       "\t<li>TRUE</li>\n",
       "\t<li>FALSE</li>\n",
       "\t<li>FALSE</li>\n",
       "</ol>\n"
      ],
      "text/latex": [
       "\\begin{enumerate*}\n",
       "\\item FALSE\n",
       "\\item FALSE\n",
       "\\item FALSE\n",
       "\\item TRUE\n",
       "\\item FALSE\n",
       "\\item FALSE\n",
       "\\end{enumerate*}\n"
      ],
      "text/markdown": [
       "1. FALSE\n",
       "2. FALSE\n",
       "3. FALSE\n",
       "4. TRUE\n",
       "5. FALSE\n",
       "6. FALSE\n",
       "\n",
       "\n"
      ],
      "text/plain": [
       "[1] FALSE FALSE FALSE  TRUE FALSE FALSE"
      ]
     },
     "metadata": {},
     "output_type": "display_data"
    }
   ],
   "source": [
    "# Check if there are cases that are older than 40 years:\n",
    "df$age>40\n",
    "\n"
   ]
  },
  {
   "cell_type": "code",
   "execution_count": 12,
   "metadata": {},
   "outputs": [],
   "source": [
    "# Replace the case(s) older than 40 with a missing value (NA).\n",
    "df$age[df$age>40]<-NA\n",
    "\n"
   ]
  },
  {
   "cell_type": "code",
   "execution_count": 13,
   "metadata": {},
   "outputs": [
    {
     "data": {
      "text/html": [
       "19.2"
      ],
      "text/latex": [
       "19.2"
      ],
      "text/markdown": [
       "19.2"
      ],
      "text/plain": [
       "[1] 19.2"
      ]
     },
     "metadata": {},
     "output_type": "display_data"
    }
   ],
   "source": [
    "# Compute again the mean age, allowing to remove missing values (NAs):\n",
    "mean(df$age, na.rm=TRUE)\n",
    "\n"
   ]
  },
  {
   "cell_type": "code",
   "execution_count": 14,
   "metadata": {},
   "outputs": [
    {
     "data": {
      "text/html": [
       "<table>\n",
       "<thead><tr><th scope=col>sex</th><th scope=col>age</th></tr></thead>\n",
       "<tbody>\n",
       "\t<tr><td>F       </td><td>17.66667</td></tr>\n",
       "\t<tr><td>M       </td><td>20.00000</td></tr>\n",
       "</tbody>\n",
       "</table>\n"
      ],
      "text/latex": [
       "\\begin{tabular}{r|ll}\n",
       " sex & age\\\\\n",
       "\\hline\n",
       "\t F        & 17.66667\\\\\n",
       "\t M        & 20.00000\\\\\n",
       "\\end{tabular}\n"
      ],
      "text/markdown": [
       "\n",
       "sex | age | \n",
       "|---|---|\n",
       "| F        | 17.66667 | \n",
       "| M        | 20.00000 | \n",
       "\n",
       "\n"
      ],
      "text/plain": [
       "  sex age     \n",
       "1 F   17.66667\n",
       "2 M   20.00000"
      ]
     },
     "metadata": {},
     "output_type": "display_data"
    }
   ],
   "source": [
    "# Inspecting mean age for male and female participants\n",
    "aggregate(age ~ sex, data=df, FUN=mean, na.rm=TRUE)\n",
    "\n"
   ]
  },
  {
   "cell_type": "code",
   "execution_count": 15,
   "metadata": {},
   "outputs": [
    {
     "data": {
      "image/png": "[encoded data removed]",
      "text/plain": [
       "plot without title"
      ]
     },
     "metadata": {},
     "output_type": "display_data"
    }
   ],
   "source": [
    "# Use a scatterplot to display the relation between age and speed:\n",
    "par(mfrow=c(1,1))\n",
    "plot(speed ~ age, data=df, col=\"blue\", pch=1, cex=1.2)\n",
    "\n"
   ]
  },
  {
   "cell_type": "markdown",
   "metadata": {},
   "source": [
    "# Quiz questions & answers\n",
    "# Quiz Question I\n",
    "### Replace the outlier of 3.00 ms in the variable *df$speed* with a NA."
   ]
  },
  {
   "cell_type": "code",
   "execution_count": 16,
   "metadata": {},
   "outputs": [],
   "source": [
    "# There are multiple solutions possible:\n",
    "\n",
    "df$speed[df$speed==3.00]<-NA\n",
    "\n"
   ]
  },
  {
   "cell_type": "code",
   "execution_count": 17,
   "metadata": {},
   "outputs": [],
   "source": [
    "# Another solution:\n",
    "\n",
    "df[2,5]<-NA\n",
    "\n"
   ]
  },
  {
   "cell_type": "code",
   "execution_count": 18,
   "metadata": {},
   "outputs": [
    {
     "data": {
      "text/html": [
       "<ol class=list-inline>\n",
       "\t<li>FALSE</li>\n",
       "\t<li>TRUE</li>\n",
       "\t<li>FALSE</li>\n",
       "\t<li>FALSE</li>\n",
       "\t<li>FALSE</li>\n",
       "\t<li>FALSE</li>\n",
       "</ol>\n"
      ],
      "text/latex": [
       "\\begin{enumerate*}\n",
       "\\item FALSE\n",
       "\\item TRUE\n",
       "\\item FALSE\n",
       "\\item FALSE\n",
       "\\item FALSE\n",
       "\\item FALSE\n",
       "\\end{enumerate*}\n"
      ],
      "text/markdown": [
       "1. FALSE\n",
       "2. TRUE\n",
       "3. FALSE\n",
       "4. FALSE\n",
       "5. FALSE\n",
       "6. FALSE\n",
       "\n",
       "\n"
      ],
      "text/plain": [
       "[1] FALSE  TRUE FALSE FALSE FALSE FALSE"
      ]
     },
     "metadata": {},
     "output_type": "display_data"
    }
   ],
   "source": [
    "# To verify that the value was indeed replaced by a NA use the command `is.na`:\n",
    "\n",
    "is.na(df$speed)\n",
    "\n"
   ]
  },
  {
   "cell_type": "markdown",
   "metadata": {},
   "source": [
    "# Quiz Question II\n",
    "\n",
    "### A dataset could erroneously have double records (duplicates). This is bad and should be removed. \n",
    "### Seeing the current dataset, what would be a way to discover duplicates in the variable df$subject?\n"
   ]
  },
  {
   "cell_type": "code",
   "execution_count": 19,
   "metadata": {},
   "outputs": [],
   "source": [
    "# Check your solution for the following data.frame that contains double data:\n",
    "\n",
    "df<-data.frame(subject=as.factor(c(\"Pierre\",\"Anne\",\"Joyce\",\"Peter\",\"Alan\",\"Camille\", \"Pierre\")), age=as.numeric(c(20, 16, 19, 99, 23, 18, 20)), sex=as.factor(c(\"M\",\"F\",\"F\",\"M\",NA,\"F\", \"M\")), height=as.numeric(c(172, 181, 165, 168, 177, 178, 172)), speed=as.numeric(c(11.20,3.00,11.50,10.35,10.98,13.05, 11.20)))\n",
    "\n"
   ]
  },
  {
   "cell_type": "code",
   "execution_count": 20,
   "metadata": {},
   "outputs": [
    {
     "data": {
      "text/plain": [
       "\n",
       "   Alan    Anne Camille   Joyce   Peter  Pierre \n",
       "      1       1       1       1       1       2 "
      ]
     },
     "metadata": {},
     "output_type": "display_data"
    }
   ],
   "source": [
    "# Answer :\n",
    "# A way to inspect for double records is to use the `table` function.\n",
    "\n",
    "table(df$subject)\n",
    "\n"
   ]
  },
  {
   "cell_type": "code",
   "execution_count": 21,
   "metadata": {},
   "outputs": [
    {
     "data": {
      "text/plain": [
       "    subject       age          sex        height          speed      \n",
       " Alan   :1   Min.   :16.00   F   :3   Min.   :165.0   Min.   : 3.00  \n",
       " Anne   :1   1st Qu.:18.50   M   :3   1st Qu.:170.0   1st Qu.:10.66  \n",
       " Camille:1   Median :20.00   NA's:1   Median :172.0   Median :11.20  \n",
       " Joyce  :1   Mean   :30.71            Mean   :173.3   Mean   :10.18  \n",
       " Peter  :1   3rd Qu.:21.50            3rd Qu.:177.5   3rd Qu.:11.35  \n",
       " Pierre :2   Max.   :99.00            Max.   :181.0   Max.   :13.05  "
      ]
     },
     "metadata": {},
     "output_type": "display_data"
    }
   ],
   "source": [
    "# But still simpler, using the `summary` function would also display this:\n",
    "\n",
    "summary(df)\n"
   ]
  },
  {
   "cell_type": "code",
   "execution_count": null,
   "metadata": {},
   "outputs": [],
   "source": []
  }
 ],
 "metadata": {
  "kernelspec": {
   "display_name": "R",
   "language": "R",
   "name": "ir"
  },
  "language_info": {
   "codemirror_mode": "r",
   "file_extension": ".r",
   "mimetype": "text/x-r-source",
   "name": "R",
   "pygments_lexer": "r",
   "version": "3.4.2"
  }
 },
 "nbformat": 4,
 "nbformat_minor": 2
}
